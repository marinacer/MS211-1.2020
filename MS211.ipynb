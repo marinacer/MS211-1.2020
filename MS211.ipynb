{
 "cells": [
  {
   "cell_type": "code",
   "execution_count": 1,
   "metadata": {},
   "outputs": [],
   "source": [
    "import matplotlib.pyplot as plt\n",
    "#Inicialização das variaveis e input dos dados utilizados\n",
    "#xdata = [0,1,2,3,4,5,6,7,8,9,10,11,12,13,14,15,16,17]\n",
    "#ydata = [1,1,1,2,2,2,2,3,6,10,13,16,16,19,30,42,56,65]\n",
    "#133\n",
    "\n",
    "xdata = range(113)\n",
    "ydata = [0,1,1,1,2,2,2,2,3,7,13,19,25,25,34,52,77,98,121,200,234,291,428,621,904,1128,1546,1891,2201,2433,2915,3417,3903,4256,4579,5717,6834,7910,9056,10278,11130,12056,13717,15927,17857,19638,20727,22169,23430,25262,28320,30425,33682,36599,38654,40581,43079,45757,49492,52995,58509,61888,66501,71886,78162,85380,91299,96396,101147,107780,114715,125218,135106,145328,155939,162699,168331,177589,188974,202918,218223,233142,241080,254220,271628,291579,310087,330890,347398,363211,\n",
    "374898,391222,411821,438238,465166,498440,514200,526447,555383,584016,614941,645771,672846,691758,707412,739503,772416,802828,828810,850514,867624,888271,923189]\n",
    "m = 0 \n",
    "A = 0\n",
    "B = 0\n",
    "C = 0\n",
    "D = 0\n",
    "E = 0\n",
    "F = 0\n",
    "G = 0\n",
    "H = 0"
   ]
  },
  {
   "cell_type": "code",
   "execution_count": null,
   "metadata": {},
   "outputs": [],
   "source": []
  }
 ],
 "metadata": {
  "kernelspec": {
   "display_name": "Python 3",
   "language": "python",
   "name": "python3"
  },
  "language_info": {
   "codemirror_mode": {
    "name": "ipython",
    "version": 3
   },
   "file_extension": ".py",
   "mimetype": "text/x-python",
   "name": "python",
   "nbconvert_exporter": "python",
   "pygments_lexer": "ipython3",
   "version": "3.7.6"
  }
 },
 "nbformat": 4,
 "nbformat_minor": 4
}
